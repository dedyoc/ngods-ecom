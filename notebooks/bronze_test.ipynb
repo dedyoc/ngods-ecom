{
 "cells": [
  {
   "cell_type": "code",
   "execution_count": null,
   "id": "97f099fb-dc07-4929-8ed3-aaab471440b3",
   "metadata": {},
   "outputs": [],
   "source": [
    "!pip install minio"
   ]
  },
  {
   "cell_type": "code",
   "execution_count": 12,
   "id": "de70cb7f-1380-4cff-a71d-20b5bd51df5b",
   "metadata": {},
   "outputs": [
    {
     "name": "stdout",
     "output_type": "stream",
     "text": [
      "[datetime.datetime(2016, 9, 1, 0, 0), datetime.datetime(2016, 10, 1, 0, 0), datetime.datetime(2017, 1, 1, 0, 0), datetime.datetime(2017, 2, 1, 0, 0), datetime.datetime(2017, 3, 1, 0, 0), datetime.datetime(2017, 4, 1, 0, 0), datetime.datetime(2017, 5, 1, 0, 0), datetime.datetime(2017, 6, 1, 0, 0), datetime.datetime(2017, 7, 1, 0, 0), datetime.datetime(2017, 8, 1, 0, 0), datetime.datetime(2017, 9, 1, 0, 0), datetime.datetime(2017, 10, 1, 0, 0), datetime.datetime(2017, 11, 1, 0, 0), datetime.datetime(2017, 12, 1, 0, 0), datetime.datetime(2018, 1, 1, 0, 0), datetime.datetime(2018, 2, 1, 0, 0), datetime.datetime(2018, 3, 1, 0, 0), datetime.datetime(2018, 4, 1, 0, 0), datetime.datetime(2018, 5, 1, 0, 0), datetime.datetime(2018, 6, 1, 0, 0), datetime.datetime(2018, 7, 1, 0, 0), datetime.datetime(2018, 8, 1, 0, 0)]\n"
     ]
    }
   ],
   "source": [
    "import pandas as pd\n",
    "from sqlalchemy.engine import create_engine\n",
    "from trino.dbapi import connect\n",
    "conn = connect(\n",
    "    host='trino',  # The hostname should match the service name in docker-compose\n",
    "    port=8060,     # The Trino coordinator port\n",
    "    user='trino',  # The username\n",
    "    catalog='iceberg',  # The catalog\n",
    "    schema='silver'  # The schema, adjust if you have a different schema\n",
    ")\n",
    "\n",
    "# Create a cursor object using the connection\n",
    "cur = conn.cursor()\n",
    "\n",
    "# Check if the 'default' schema exists, and create it if not\n",
    "cur.execute(\"\"\"\n",
    "    SELECT DATE_TRUNC('month', o.order_purchase_timestamp) as month, SUM(f.price) as total_sales\n",
    "    FROM Fact_Sales f\n",
    "    JOIN Dim_Orders o ON f.order_id = o.order_id\n",
    "    GROUP BY DATE_TRUNC('month', o.order_purchase_timestamp)\n",
    "    ORDER BY DATE_TRUNC('month', o.order_purchase_timestamp)\n",
    "\"\"\")\n",
    "schemas = [schema[0] for schema in cur.fetchall()]\n",
    "print(schemas)"
   ]
  },
  {
   "cell_type": "code",
   "execution_count": 2,
   "id": "7c75dfd5-1812-429c-8ad5-70d3c1d8535f",
   "metadata": {},
   "outputs": [
    {
     "name": "stdout",
     "output_type": "stream",
     "text": [
      "Note: you may need to restart the kernel to use updated packages.\n"
     ]
    }
   ],
   "source": [
    "%pip install jupysql trino pandas pyarrow --quiet"
   ]
  },
  {
   "cell_type": "code",
   "execution_count": 1,
   "id": "77f24623-4f6d-458d-8713-3800b4972579",
   "metadata": {},
   "outputs": [
    {
     "name": "stdout",
     "output_type": "stream",
     "text": [
      "Note: you may need to restart the kernel to use updated packages.\n"
     ]
    }
   ],
   "source": [
    "%pip install sqlalchemy-trino --quiet"
   ]
  },
  {
   "cell_type": "code",
   "execution_count": 1,
   "id": "cf779306-d9f3-450d-a101-4e5376cdd924",
   "metadata": {},
   "outputs": [],
   "source": [
    "from time import time\n",
    "from sqlalchemy import create_engine\n",
    "engine = create_engine('trino://trino@trino:8060/iceberg')"
   ]
  },
  {
   "cell_type": "code",
   "execution_count": 2,
   "id": "a9597f64-9e89-4668-82d8-897e70524e5a",
   "metadata": {},
   "outputs": [],
   "source": [
    "%load_ext sql"
   ]
  },
  {
   "cell_type": "code",
   "execution_count": 3,
   "id": "1322365c-cc35-465a-93ed-b756314af0e3",
   "metadata": {},
   "outputs": [
    {
     "data": {
      "text/html": [
       "<span style=\"None\">Connecting to &#x27;trino://trino@trino:8060/iceberg&#x27;</span>"
      ],
      "text/plain": [
       "Connecting to 'trino://trino@trino:8060/iceberg'"
      ]
     },
     "metadata": {},
     "output_type": "display_data"
    }
   ],
   "source": [
    "%sql trino://trino@trino:8060/iceberg"
   ]
  },
  {
   "cell_type": "code",
   "execution_count": 4,
   "id": "390cc25b-7146-4ee9-8f1d-da4577de727c",
   "metadata": {},
   "outputs": [
    {
     "name": "stderr",
     "output_type": "stream",
     "text": [
      "EXECUTE IMMEDIATE not available for trino:8060; defaulting to legacy prepared statements (TrinoUserError(type=USER_ERROR, name=SYNTAX_ERROR, message=\"line 1:19: mismatched input ''SELECT 1''. Expecting: 'USING', <EOF>\", query_id=20240528_233227_00053_74q2v))\n"
     ]
    },
    {
     "data": {
      "text/html": [
       "<table>\n",
       "    <thead>\n",
       "        <tr>\n",
       "            <th>Name</th>\n",
       "        </tr>\n",
       "    </thead>\n",
       "    <tbody>\n",
       "        <tr>\n",
       "            <td>customers</td>\n",
       "        </tr>\n",
       "        <tr>\n",
       "            <td>geolocation</td>\n",
       "        </tr>\n",
       "        <tr>\n",
       "            <td>order_items</td>\n",
       "        </tr>\n",
       "        <tr>\n",
       "            <td>order_payments</td>\n",
       "        </tr>\n",
       "        <tr>\n",
       "            <td>order_reviews</td>\n",
       "        </tr>\n",
       "        <tr>\n",
       "            <td>orders</td>\n",
       "        </tr>\n",
       "        <tr>\n",
       "            <td>product_category_name_translation</td>\n",
       "        </tr>\n",
       "        <tr>\n",
       "            <td>products</td>\n",
       "        </tr>\n",
       "        <tr>\n",
       "            <td>sellers</td>\n",
       "        </tr>\n",
       "    </tbody>\n",
       "</table>"
      ],
      "text/plain": [
       "+-----------------------------------+\n",
       "|                Name               |\n",
       "+-----------------------------------+\n",
       "|             customers             |\n",
       "|            geolocation            |\n",
       "|            order_items            |\n",
       "|           order_payments          |\n",
       "|           order_reviews           |\n",
       "|               orders              |\n",
       "| product_category_name_translation |\n",
       "|              products             |\n",
       "|              sellers              |\n",
       "+-----------------------------------+"
      ]
     },
     "execution_count": 4,
     "metadata": {},
     "output_type": "execute_result"
    }
   ],
   "source": [
    "%sqlcmd tables --schema bronze"
   ]
  },
  {
   "cell_type": "code",
   "execution_count": 5,
   "id": "c9b202c0-115e-49c8-b220-1988da27fdda",
   "metadata": {},
   "outputs": [
    {
     "data": {
      "text/html": [
       "<table>\n",
       "    <thead>\n",
       "        <tr>\n",
       "            <th>Name</th>\n",
       "        </tr>\n",
       "    </thead>\n",
       "    <tbody>\n",
       "        <tr>\n",
       "            <td>dim_customers</td>\n",
       "        </tr>\n",
       "        <tr>\n",
       "            <td>dim_geolocation</td>\n",
       "        </tr>\n",
       "        <tr>\n",
       "            <td>dim_orders</td>\n",
       "        </tr>\n",
       "        <tr>\n",
       "            <td>dim_products</td>\n",
       "        </tr>\n",
       "        <tr>\n",
       "            <td>dim_sellers</td>\n",
       "        </tr>\n",
       "        <tr>\n",
       "            <td>fact_sales</td>\n",
       "        </tr>\n",
       "    </tbody>\n",
       "</table>"
      ],
      "text/plain": [
       "+-----------------+\n",
       "|       Name      |\n",
       "+-----------------+\n",
       "|  dim_customers  |\n",
       "| dim_geolocation |\n",
       "|    dim_orders   |\n",
       "|   dim_products  |\n",
       "|   dim_sellers   |\n",
       "|    fact_sales   |\n",
       "+-----------------+"
      ]
     },
     "execution_count": 5,
     "metadata": {},
     "output_type": "execute_result"
    }
   ],
   "source": [
    "%sqlcmd tables --schema silver"
   ]
  },
  {
   "cell_type": "code",
   "execution_count": 7,
   "id": "28d8dcb9-bc29-41d2-ba1c-881678b029d0",
   "metadata": {},
   "outputs": [
    {
     "data": {
      "text/html": [
       "<table>\n",
       "    <thead>\n",
       "        <tr>\n",
       "            <th>name</th>\n",
       "            <th>type</th>\n",
       "            <th>nullable</th>\n",
       "            <th>default</th>\n",
       "        </tr>\n",
       "    </thead>\n",
       "    <tbody>\n",
       "        <tr>\n",
       "            <td>product_id</td>\n",
       "            <td>VARCHAR</td>\n",
       "            <td>True</td>\n",
       "            <td>None</td>\n",
       "        </tr>\n",
       "        <tr>\n",
       "            <td>product_category_name</td>\n",
       "            <td>VARCHAR</td>\n",
       "            <td>True</td>\n",
       "            <td>None</td>\n",
       "        </tr>\n",
       "        <tr>\n",
       "            <td>product_name_length</td>\n",
       "            <td>INTEGER</td>\n",
       "            <td>True</td>\n",
       "            <td>None</td>\n",
       "        </tr>\n",
       "        <tr>\n",
       "            <td>product_description_length</td>\n",
       "            <td>INTEGER</td>\n",
       "            <td>True</td>\n",
       "            <td>None</td>\n",
       "        </tr>\n",
       "        <tr>\n",
       "            <td>product_photos_qty</td>\n",
       "            <td>INTEGER</td>\n",
       "            <td>True</td>\n",
       "            <td>None</td>\n",
       "        </tr>\n",
       "        <tr>\n",
       "            <td>product_weight_g</td>\n",
       "            <td>INTEGER</td>\n",
       "            <td>True</td>\n",
       "            <td>None</td>\n",
       "        </tr>\n",
       "        <tr>\n",
       "            <td>product_length_cm</td>\n",
       "            <td>INTEGER</td>\n",
       "            <td>True</td>\n",
       "            <td>None</td>\n",
       "        </tr>\n",
       "        <tr>\n",
       "            <td>product_height_cm</td>\n",
       "            <td>INTEGER</td>\n",
       "            <td>True</td>\n",
       "            <td>None</td>\n",
       "        </tr>\n",
       "        <tr>\n",
       "            <td>product_width_cm</td>\n",
       "            <td>INTEGER</td>\n",
       "            <td>True</td>\n",
       "            <td>None</td>\n",
       "        </tr>\n",
       "    </tbody>\n",
       "</table>"
      ],
      "text/plain": [
       "+----------------------------+---------+----------+---------+\n",
       "|            name            |   type  | nullable | default |\n",
       "+----------------------------+---------+----------+---------+\n",
       "|         product_id         | VARCHAR |   True   |   None  |\n",
       "|   product_category_name    | VARCHAR |   True   |   None  |\n",
       "|    product_name_length     | INTEGER |   True   |   None  |\n",
       "| product_description_length | INTEGER |   True   |   None  |\n",
       "|     product_photos_qty     | INTEGER |   True   |   None  |\n",
       "|      product_weight_g      | INTEGER |   True   |   None  |\n",
       "|     product_length_cm      | INTEGER |   True   |   None  |\n",
       "|     product_height_cm      | INTEGER |   True   |   None  |\n",
       "|      product_width_cm      | INTEGER |   True   |   None  |\n",
       "+----------------------------+---------+----------+---------+"
      ]
     },
     "execution_count": 7,
     "metadata": {},
     "output_type": "execute_result"
    }
   ],
   "source": [
    "%sqlcmd columns --table products --schema bronze"
   ]
  },
  {
   "cell_type": "code",
   "execution_count": 10,
   "id": "6f4d0817-75b3-4bee-bb88-b078c06cb3d5",
   "metadata": {},
   "outputs": [
    {
     "data": {
      "text/html": [
       "<span style=\"None\">Running query in &#x27;trino://trino@trino:8060/iceberg&#x27;</span>"
      ],
      "text/plain": [
       "Running query in 'trino://trino@trino:8060/iceberg'"
      ]
     },
     "metadata": {},
     "output_type": "display_data"
    },
    {
     "data": {
      "text/html": [
       "<table>\n",
       "    <thead>\n",
       "        <tr>\n",
       "            <th>_col0</th>\n",
       "        </tr>\n",
       "    </thead>\n",
       "    <tbody>\n",
       "        <tr>\n",
       "            <td>112650</td>\n",
       "        </tr>\n",
       "    </tbody>\n",
       "</table>"
      ],
      "text/plain": [
       "+--------+\n",
       "| _col0  |\n",
       "+--------+\n",
       "| 112650 |\n",
       "+--------+"
      ]
     },
     "execution_count": 10,
     "metadata": {},
     "output_type": "execute_result"
    }
   ],
   "source": [
    "%%sql\n",
    "SELECT COUNT(*) FROM iceberg.bronze.order_items"
   ]
  },
  {
   "cell_type": "code",
   "execution_count": 20,
   "id": "574cac42-7ac8-4c41-8ca4-884325a31ecf",
   "metadata": {},
   "outputs": [
    {
     "name": "stdout",
     "output_type": "stream",
     "text": [
      "Collecting lightgbm\n",
      "  Downloading lightgbm-4.3.0-py3-none-manylinux_2_28_x86_64.whl.metadata (19 kB)\n",
      "Requirement already satisfied: numpy in /opt/conda/lib/python3.11/site-packages (from lightgbm) (1.24.4)\n",
      "Requirement already satisfied: scipy in /opt/conda/lib/python3.11/site-packages (from lightgbm) (1.11.3)\n",
      "Downloading lightgbm-4.3.0-py3-none-manylinux_2_28_x86_64.whl (3.1 MB)\n",
      "\u001b[2K   \u001b[90m━━━━━━━━━━━━━━━━━━━━━━━━━━━━━━━━━━━━━━━━\u001b[0m \u001b[32m3.1/3.1 MB\u001b[0m \u001b[31m1.1 MB/s\u001b[0m eta \u001b[36m0:00:00\u001b[0m00:01\u001b[0m00:01\u001b[0m0m\n",
      "\u001b[?25hInstalling collected packages: lightgbm\n",
      "Successfully installed lightgbm-4.3.0\n"
     ]
    }
   ],
   "source": [
    "!pip install lightgbm\n"
   ]
  },
  {
   "cell_type": "code",
   "execution_count": 25,
   "id": "2fc5831a-b2d5-444d-abdb-d59fcba32de0",
   "metadata": {},
   "outputs": [
    {
     "data": {
      "text/html": [
       "<span style=\"None\">Running query in &#x27;trino://trino@trino:8060/iceberg&#x27;</span>"
      ],
      "text/plain": [
       "Running query in 'trino://trino@trino:8060/iceberg'"
      ]
     },
     "metadata": {},
     "output_type": "display_data"
    },
    {
     "name": "stdout",
     "output_type": "stream",
     "text": [
      "    price  freight_value  payment_value\n",
      "0   58.90          13.29          72.19\n",
      "1  239.90          19.93         259.83\n",
      "2  199.00          17.87         216.87\n",
      "3   12.99          12.79          25.78\n",
      "4  199.90          18.14         218.04\n"
     ]
    }
   ],
   "source": [
    "from sklearn.model_selection import train_test_split\n",
    "from lightgbm import LGBMRegressor\n",
    "from sklearn import metrics\n",
    "import pandas as pd\n",
    "import numpy as np\n",
    "import matplotlib.pyplot as plt\n",
    "import seaborn as sns\n",
    "\n",
    "data = %sql SELECT oi.price, oi.freight_value, op.payment_value FROM iceberg.bronze.order_items AS oi JOIN iceberg.bronze.order_payments AS op ON oi.order_id = op.order_id\n",
    "\n",
    "df = data.DataFrame()\n",
    "print(df.head(n = 5))\n",
    "df = df.dropna()\n",
    "\n",
    "# Define predictor variables (X) and target variable (y)\n",
    "X = df[['price', 'freight_value']]\n",
    "y = df['payment_value']"
   ]
  },
  {
   "cell_type": "code",
   "execution_count": 26,
   "id": "c06e7aa8-d99c-4391-9b1a-29c508c93cb0",
   "metadata": {},
   "outputs": [
    {
     "data": {
      "image/png": "[encoded data removed]",
      "text/plain": [
       "<Figure size 640x480 with 2 Axes>"
      ]
     },
     "metadata": {},
     "output_type": "display_data"
    }
   ],
   "source": [
    "sns.heatmap(df.corr(), annot=True, cmap='coolwarm')\n",
    "plt.title('Correlation Heatmap')\n",
    "plt.show()"
   ]
  },
  {
   "cell_type": "code",
   "execution_count": 27,
   "id": "67a3ad0b-aec4-453b-8f3f-0d67fb613fb9",
   "metadata": {},
   "outputs": [],
   "source": [
    "# Split the data into training set and test set\n",
    "X_train, X_test, y_train, y_test = train_test_split(X, y, test_size=0.2, random_state=0)"
   ]
  },
  {
   "cell_type": "code",
   "execution_count": null,
   "id": "d73f4215-48ff-4ba6-a2e7-770a03cb6cf6",
   "metadata": {},
   "outputs": [],
   "source": [
    "# Create a LightGBM model\n",
    "model = LGBMRegressor()\n",
    "\n",
    "# Train the model\n",
    "model.fit(X_train, y_train)"
   ]
  },
  {
   "cell_type": "code",
   "execution_count": null,
   "id": "61f69ca6-78be-4e4e-8e0e-044069473219",
   "metadata": {},
   "outputs": [],
   "source": [
    "# Make predictions on the test set\n",
    "y_pred = model.predict(X_test)\n",
    "\n",
    "# Evaluate the model\n",
    "print('Mean Absolute Error:', metrics.mean_absolute_error(y_test, y_pred))\n",
    "print('Mean Squared Error:', metrics.mean_squared_error(y_test, y_pred))\n",
    "print('Root Mean Squared Error:', np.sqrt(metrics.mean_squared_error(y_test, y_pred)))\n",
    "\n",
    "# Plot the true values vs predictions\n",
    "plt.scatter(y_test, y_pred)\n",
    "plt.xlabel('True Values')\n",
    "plt.ylabel('Predictions')\n",
    "plt.title('True Values vs Predictions')\n",
    "plt.show()"
   ]
  },
  {
   "cell_type": "code",
   "execution_count": 13,
   "id": "a4ed4289-394a-4fea-b9dd-0348fadcb0e0",
   "metadata": {},
   "outputs": [
    {
     "data": {
      "text/html": [
       "<span style=\"None\">Running query in &#x27;trino://trino@trino:8060/iceberg&#x27;</span>"
      ],
      "text/plain": [
       "Running query in 'trino://trino@trino:8060/iceberg'"
      ]
     },
     "metadata": {},
     "output_type": "display_data"
    },
    {
     "data": {
      "text/html": [
       "<table>\n",
       "    <thead>\n",
       "        <tr>\n",
       "            <th>product_id</th>\n",
       "            <th>product_category_name</th>\n",
       "            <th>product_name_length</th>\n",
       "            <th>product_description_length</th>\n",
       "            <th>product_photos_qty</th>\n",
       "            <th>product_weight_g</th>\n",
       "            <th>product_length_cm</th>\n",
       "            <th>product_height_cm</th>\n",
       "            <th>product_width_cm</th>\n",
       "        </tr>\n",
       "    </thead>\n",
       "    <tbody>\n",
       "        <tr>\n",
       "            <td>\"00066f42aeeb9f3007548bb9d3f33c3</td>\n",
       "            <td>perfumaria</td>\n",
       "            <td>53</td>\n",
       "            <td>596</td>\n",
       "            <td>6</td>\n",
       "            <td>300</td>\n",
       "            <td>20</td>\n",
       "            <td>16</td>\n",
       "            <td>16</td>\n",
       "        </tr>\n",
       "        <tr>\n",
       "            <td>\"00088930e925c41fd95ebfe695fd265</td>\n",
       "            <td>automotivo</td>\n",
       "            <td>56</td>\n",
       "            <td>752</td>\n",
       "            <td>4</td>\n",
       "            <td>1225</td>\n",
       "            <td>55</td>\n",
       "            <td>10</td>\n",
       "            <td>26</td>\n",
       "        </tr>\n",
       "        <tr>\n",
       "            <td>\"0009406fd7479715e4bef61dd91f246</td>\n",
       "            <td>cama_mesa_banho</td>\n",
       "            <td>50</td>\n",
       "            <td>266</td>\n",
       "            <td>2</td>\n",
       "            <td>300</td>\n",
       "            <td>45</td>\n",
       "            <td>15</td>\n",
       "            <td>35</td>\n",
       "        </tr>\n",
       "        <tr>\n",
       "            <td>\"000b8f95fcb9e0096488278317764d1</td>\n",
       "            <td>utilidades_domesticas</td>\n",
       "            <td>25</td>\n",
       "            <td>364</td>\n",
       "            <td>3</td>\n",
       "            <td>550</td>\n",
       "            <td>19</td>\n",
       "            <td>24</td>\n",
       "            <td>12</td>\n",
       "        </tr>\n",
       "        <tr>\n",
       "            <td>\"000d9be29b5207b54e86aa1b1ac5487</td>\n",
       "            <td>relogios_presentes</td>\n",
       "            <td>48</td>\n",
       "            <td>613</td>\n",
       "            <td>4</td>\n",
       "            <td>250</td>\n",
       "            <td>22</td>\n",
       "            <td>11</td>\n",
       "            <td>15</td>\n",
       "        </tr>\n",
       "        <tr>\n",
       "            <td>\"0011c512eb256aa0dbbb544d8dffcf6</td>\n",
       "            <td>automotivo</td>\n",
       "            <td>58</td>\n",
       "            <td>177</td>\n",
       "            <td>1</td>\n",
       "            <td>100</td>\n",
       "            <td>16</td>\n",
       "            <td>15</td>\n",
       "            <td>16</td>\n",
       "        </tr>\n",
       "        <tr>\n",
       "            <td>\"00126f27c813603687e6ce486d909d0</td>\n",
       "            <td>cool_stuff</td>\n",
       "            <td>42</td>\n",
       "            <td>2461</td>\n",
       "            <td>1</td>\n",
       "            <td>700</td>\n",
       "            <td>25</td>\n",
       "            <td>5</td>\n",
       "            <td>15</td>\n",
       "        </tr>\n",
       "        <tr>\n",
       "            <td>\"001795ec6f1b187d37335e1c4704762</td>\n",
       "            <td>consoles_games</td>\n",
       "            <td>53</td>\n",
       "            <td>274</td>\n",
       "            <td>1</td>\n",
       "            <td>600</td>\n",
       "            <td>30</td>\n",
       "            <td>20</td>\n",
       "            <td>20</td>\n",
       "        </tr>\n",
       "        <tr>\n",
       "            <td>\"001b237c0e9bb435f2e54071129237e</td>\n",
       "            <td>cama_mesa_banho</td>\n",
       "            <td>42</td>\n",
       "            <td>253</td>\n",
       "            <td>1</td>\n",
       "            <td>6000</td>\n",
       "            <td>40</td>\n",
       "            <td>4</td>\n",
       "            <td>30</td>\n",
       "        </tr>\n",
       "        <tr>\n",
       "            <td>\"001b72dfd63e9833e8c02742adf472e</td>\n",
       "            <td>moveis_decoracao</td>\n",
       "            <td>45</td>\n",
       "            <td>520</td>\n",
       "            <td>3</td>\n",
       "            <td>600</td>\n",
       "            <td>26</td>\n",
       "            <td>8</td>\n",
       "            <td>22</td>\n",
       "        </tr>\n",
       "    </tbody>\n",
       "</table>\n",
       "<span style=\"font-style:italic;text-align:center;\">Truncated to <a href=\"https://jupysql.ploomber.io/en/latest/api/configuration.html#displaylimit\">displaylimit</a> of 10.</span>"
      ],
      "text/plain": [
       "+----------------------------------+-----------------------+---------------------+----------------------------+--------------------+------------------+-------------------+-------------------+------------------+\n",
       "|            product_id            | product_category_name | product_name_length | product_description_length | product_photos_qty | product_weight_g | product_length_cm | product_height_cm | product_width_cm |\n",
       "+----------------------------------+-----------------------+---------------------+----------------------------+--------------------+------------------+-------------------+-------------------+------------------+\n",
       "| \"00066f42aeeb9f3007548bb9d3f33c3 |       perfumaria      |          53         |            596             |         6          |       300        |         20        |         16        |        16        |\n",
       "| \"00088930e925c41fd95ebfe695fd265 |       automotivo      |          56         |            752             |         4          |       1225       |         55        |         10        |        26        |\n",
       "| \"0009406fd7479715e4bef61dd91f246 |    cama_mesa_banho    |          50         |            266             |         2          |       300        |         45        |         15        |        35        |\n",
       "| \"000b8f95fcb9e0096488278317764d1 | utilidades_domesticas |          25         |            364             |         3          |       550        |         19        |         24        |        12        |\n",
       "| \"000d9be29b5207b54e86aa1b1ac5487 |   relogios_presentes  |          48         |            613             |         4          |       250        |         22        |         11        |        15        |\n",
       "| \"0011c512eb256aa0dbbb544d8dffcf6 |       automotivo      |          58         |            177             |         1          |       100        |         16        |         15        |        16        |\n",
       "| \"00126f27c813603687e6ce486d909d0 |       cool_stuff      |          42         |            2461            |         1          |       700        |         25        |         5         |        15        |\n",
       "| \"001795ec6f1b187d37335e1c4704762 |     consoles_games    |          53         |            274             |         1          |       600        |         30        |         20        |        20        |\n",
       "| \"001b237c0e9bb435f2e54071129237e |    cama_mesa_banho    |          42         |            253             |         1          |       6000       |         40        |         4         |        30        |\n",
       "| \"001b72dfd63e9833e8c02742adf472e |    moveis_decoracao   |          45         |            520             |         3          |       600        |         26        |         8         |        22        |\n",
       "+----------------------------------+-----------------------+---------------------+----------------------------+--------------------+------------------+-------------------+-------------------+------------------+\n",
       "Truncated to displaylimit of 10."
      ]
     },
     "execution_count": 13,
     "metadata": {},
     "output_type": "execute_result"
    }
   ],
   "source": [
    "%%sql\n",
    "SELECT * FROM iceberg.bronze.products"
   ]
  },
  {
   "cell_type": "code",
   "execution_count": null,
   "id": "dcf9b77a-4724-433e-9a95-cf80c4014eb0",
   "metadata": {},
   "outputs": [],
   "source": []
  }
 ],
 "metadata": {
  "kernelspec": {
   "display_name": "Python 3 (ipykernel)",
   "language": "python",
   "name": "python3"
  },
  "language_info": {
   "codemirror_mode": {
    "name": "ipython",
    "version": 3
   },
   "file_extension": ".py",
   "mimetype": "text/x-python",
   "name": "python",
   "nbconvert_exporter": "python",
   "pygments_lexer": "ipython3",
   "version": "3.11.6"
  }
 },
 "nbformat": 4,
 "nbformat_minor": 5
}
