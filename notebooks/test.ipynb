{
 "cells": [
  {
   "cell_type": "code",
   "execution_count": 1,
   "id": "a0b4f920-d1fd-4a6d-8de9-5dda20b82458",
   "metadata": {},
   "outputs": [],
   "source": [
    "import pandas as pd\n",
    "from sqlalchemy.engine import create_engine\n",
    "from trino.dbapi import connect\n",
    "\n",
    "csv_file_path = '/home/jovyan/data/stage/CashTransactionHistorical.txt'\n",
    "# delimiter is '|'\n",
    "df = pd.read_csv(csv_file_path, delimiter='|', header=None, names=['id', 'timestamp', 'amount', 'description'])\n"
   ]
  },
  {
   "cell_type": "code",
   "execution_count": 2,
   "id": "636bb3a1-f298-43fa-aeef-e0a9d98f9864",
   "metadata": {},
   "outputs": [
    {
     "name": "stdout",
     "output_type": "stream",
     "text": [
      "['default', 'information_schema']\n"
     ]
    }
   ],
   "source": [
    "\n",
    "\n",
    "# Establish a connection to Trino\n",
    "conn = connect(\n",
    "    host='trino',  # The hostname should match the service name in docker-compose\n",
    "    port=8060,     # The Trino coordinator port\n",
    "    user='trino',  # The username\n",
    "    catalog='iceberg',  # The catalog\n",
    "    schema='default'  # The schema, adjust if you have a different schema\n",
    ")\n",
    "\n",
    "# Create a cursor object using the connection\n",
    "cur = conn.cursor()\n",
    "\n",
    "# Check if the 'default' schema exists, and create it if not\n",
    "cur.execute(\"SHOW SCHEMAS\")\n",
    "schemas = [schema[0] for schema in cur.fetchall()]\n",
    "print(schemas)\n",
    "if 'default' not in schemas:\n",
    "    cur.execute(\"CREATE SCHEMA default\")\n",
    "\n"
   ]
  },
  {
   "cell_type": "code",
   "execution_count": 3,
   "id": "ed518c58-bcfb-4c3f-b342-91631940a29e",
   "metadata": {},
   "outputs": [],
   "source": [
    "cur.execute(\"DROP TABLE IF EXISTS cash_transactions\")\n",
    "conn.commit()\n",
    "# Define the SQL query to create an Iceberg table\n",
    "create_table_sql = \"\"\"\n",
    "CREATE TABLE IF NOT EXISTS cash_transactions (\n",
    "    id INTEGER,\n",
    "    timestamp TIMESTAMP(6),\n",
    "    amount DOUBLE,\n",
    "    description VARCHAR(100)\n",
    ")\n",
    "WITH (\n",
    "    format = 'PARQUET',\n",
    "    partitioning = ARRAY['HOUR(timestamp)']\n",
    ")\n",
    "\"\"\"\n",
    "# Execute the create table query using the cursor\n",
    "cur.execute(create_table_sql)\n",
    "\n",
    "# Commit the transaction\n",
    "conn.commit()"
   ]
  },
  {
   "cell_type": "code",
   "execution_count": 4,
   "id": "06099844-1a19-45f7-a50f-5ac19edb8c58",
   "metadata": {},
   "outputs": [
    {
     "name": "stderr",
     "output_type": "stream",
     "text": [
      "EXECUTE IMMEDIATE not available for trino:8060; defaulting to legacy prepared statements (TrinoUserError(type=USER_ERROR, name=SYNTAX_ERROR, message=\"line 1:19: mismatched input ''SELECT 1''. Expecting: 'USING', <EOF>\", query_id=20240419_112030_15024_zwwbp))\n",
      "EXECUTE IMMEDIATE not available for trino:8060; defaulting to legacy prepared statements (TrinoUserError(type=USER_ERROR, name=SYNTAX_ERROR, message=\"line 1:19: mismatched input ''SELECT 1''. Expecting: 'USING', <EOF>\", query_id=20240419_122031_24676_zwwbp))\n"
     ]
    },
    {
     "name": "stdout",
     "output_type": "stream",
     "text": [
      "Took -5862.6933 to insert data\n"
     ]
    }
   ],
   "source": [
    "from time import time\n",
    "# Create a SQLAlchemy engine\n",
    "engine = create_engine('trino://trino@trino:8060/iceberg/default')\n",
    "\n",
    "# Define the chunk size\n",
    "chunk_size = 100  # Adjust the chunk size based on your needs and Trino's limits\n",
    "t = time()\n",
    "df['timestamp'] = pd.to_datetime(df['timestamp'])  # Cast timestamp column to datetime\n",
    "# Insert the data into the Iceberg table in chunks\n",
    "df.to_sql(\n",
    "    'cash_transactions', \n",
    "    con=engine, \n",
    "    schema='default', \n",
    "    if_exists='append', \n",
    "    index=False,\n",
    "    method='multi',\n",
    "    chunksize=chunk_size  # Insert data in chunks\n",
    ")\n",
    "print(f\"Took {time() - t:.4f}s to insert data\")"
   ]
  },
  {
   "cell_type": "code",
   "execution_count": 5,
   "id": "8ef2526a-31b3-49ff-969d-59c4c04615e9",
   "metadata": {},
   "outputs": [
    {
     "name": "stdout",
     "output_type": "stream",
     "text": [
      "[5265, datetime.datetime(2016, 11, 7, 13, 1, 45), 196416.46, 'UfHOD WNzXUGTFqBgFDJvJpAw']\n",
      "[4101, datetime.datetime(2016, 11, 7, 12, 49, 59), -2741.02, 'VdosndUR qx']\n",
      "[4927, datetime.datetime(2016, 11, 7, 3, 31, 17), -20633.34, 'GDYnJzuiJSIKCRVpKPIiAzrRMgxXMRSBRtkRHdiqLvNm bItowJKGK']\n",
      "[5756, datetime.datetime(2016, 11, 7, 1, 52, 5), -728028.57, 'eihYRGRJHtEyAeFLNwgKcfsLDknZYhUJ']\n",
      "[278, datetime.datetime(2016, 11, 6, 9, 38, 36), -9737.21, 'OUOpGOvpeZXNdEDXRJkvF hZLYHDIBiYQVWNwrLhUGbUiyMYTkIQJSKSWOqQrhiqKHXfgxrRFnFyqrhAOErBWr']\n",
      "[2600, datetime.datetime(2016, 11, 6, 6, 26, 4), -90385.22, 'HDSzYqiMoGAQmNGEuLEZNRUmLZojkEOnJwcPLTSmRqHNGrxNhxy']\n",
      "[2402, datetime.datetime(2016, 11, 6, 3, 37, 48), 9326.28, 'IwaulMNCzquzIMgzBSbpptyAoUJTsFugJP']\n",
      "[1699, datetime.datetime(2016, 11, 6, 1, 55, 37), 26912.14, 'gPQxqAxoHDdnSeEKAVoOEOW mxG']\n",
      "[1521, datetime.datetime(2016, 11, 5, 20, 47, 4), -9024.71, 'vitYIzwFCaVTtYLZKAsBMmuyIHAWqBnZNsTTG']\n",
      "[4495, datetime.datetime(2016, 11, 5, 14, 18, 31), -5122.96, 'dDsxyHSBsIx oSITXBCdFMimBqDThNTqhshTRjrothDyKsSNEGtVRGWOopDDcZDohWRIVLrIHEYUhqCTqhBpIfKdNhlVuASwPxck']\n"
     ]
    }
   ],
   "source": [
    "# Define the SQL query to select all rows from the cash_transactions table\n",
    "query = \"\"\"\n",
    "SELECT *\n",
    "FROM cash_transactions\n",
    "ORDER BY timestamp DESC\n",
    "LIMIT 10\n",
    "\"\"\"\n",
    "cur.execute(query)\n",
    "\n",
    "# Fetch and print the results\n",
    "rows = cur.fetchall()\n",
    "for row in rows:\n",
    "    print(row)\n"
   ]
  },
  {
   "cell_type": "code",
   "execution_count": 6,
   "id": "65516a81-112e-4510-9560-4052423cafec",
   "metadata": {},
   "outputs": [],
   "source": [
    "# Close the cursor and connection\n",
    "cur.close()\n",
    "conn.close()"
   ]
  },
  {
   "cell_type": "code",
   "execution_count": 8,
   "id": "d9ef782e-c92a-4ba9-bdcf-006bcd0412b7",
   "metadata": {},
   "outputs": [
    {
     "data": {
      "text/markdown": [
       "# Trying out the ingested table\n"
      ],
      "text/plain": [
       "<IPython.core.display.Markdown object>"
      ]
     },
     "metadata": {},
     "output_type": "display_data"
    }
   ],
   "source": [
    "%%markdown\n",
    "# Trying out the ingested table"
   ]
  },
  {
   "cell_type": "code",
   "execution_count": null,
   "id": "5949cbd1-8e7e-41e6-8e41-cc31444fe444",
   "metadata": {},
   "outputs": [],
   "source": [
    "# Establish a connection to Trino\n",
    "conn = connect(\n",
    "    host='trino',  # The hostname should match the service name in docker-compose\n",
    "    port=8060,     # The Trino coordinator port\n",
    "    user='trino',  # The username\n",
    "    catalog='iceberg',  # The catalog\n",
    "    schema='default'  # The schema, adjust if you have a different schema\n",
    ")\n",
    "\n",
    "# Create a cursor object using the connection\n",
    "cur = conn.cursor()\n"
   ]
  },
  {
   "cell_type": "code",
   "execution_count": null,
   "id": "322d88e1-93e0-47d6-862c-e1693a7677aa",
   "metadata": {},
   "outputs": [],
   "source": []
  }
 ],
 "metadata": {
  "kernelspec": {
   "display_name": "Python 3 (ipykernel)",
   "language": "python",
   "name": "python3"
  },
  "language_info": {
   "codemirror_mode": {
    "name": "ipython",
    "version": 3
   },
   "file_extension": ".py",
   "mimetype": "text/x-python",
   "name": "python",
   "nbconvert_exporter": "python",
   "pygments_lexer": "ipython3",
   "version": "3.11.6"
  }
 },
 "nbformat": 4,
 "nbformat_minor": 5
}
